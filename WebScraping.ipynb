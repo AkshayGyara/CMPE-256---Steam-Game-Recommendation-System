{
 "cells": [
  {
   "cell_type": "code",
   "execution_count": 1,
   "metadata": {},
   "outputs": [],
   "source": [
    "import requests\n",
    "import xml.etree.ElementTree as ET\n",
    "import time"
   ]
  },
  {
   "cell_type": "code",
   "execution_count": 2,
   "metadata": {},
   "outputs": [
    {
     "ename": "FileNotFoundError",
     "evalue": "[Errno 2] No such file or directory: '../steamIdList/Output.txt'",
     "output_type": "error",
     "traceback": [
      "\u001b[1;31m---------------------------------------------------------------------------\u001b[0m",
      "\u001b[1;31mFileNotFoundError\u001b[0m                         Traceback (most recent call last)",
      "\u001b[1;32m<ipython-input-2-83e780602436>\u001b[0m in \u001b[0;36m<module>\u001b[1;34m\u001b[0m\n\u001b[0;32m      1\u001b[0m \u001b[0midCount\u001b[0m \u001b[1;33m=\u001b[0m \u001b[1;36m0\u001b[0m\u001b[1;33m\u001b[0m\u001b[1;33m\u001b[0m\u001b[0m\n\u001b[0;32m      2\u001b[0m \u001b[1;33m\u001b[0m\u001b[0m\n\u001b[1;32m----> 3\u001b[1;33m \u001b[1;32mwith\u001b[0m \u001b[0mopen\u001b[0m\u001b[1;33m(\u001b[0m\u001b[1;34m\"../steamIdList/Output.txt\"\u001b[0m\u001b[1;33m,\u001b[0m \u001b[1;34m\"w\"\u001b[0m\u001b[1;33m)\u001b[0m \u001b[1;32mas\u001b[0m \u001b[0mtext_file\u001b[0m\u001b[1;33m:\u001b[0m\u001b[1;33m\u001b[0m\u001b[1;33m\u001b[0m\u001b[0m\n\u001b[0m\u001b[0;32m      4\u001b[0m     \u001b[1;32mfor\u001b[0m \u001b[0mi\u001b[0m \u001b[1;32min\u001b[0m \u001b[0mrange\u001b[0m\u001b[1;33m(\u001b[0m\u001b[1;36m1\u001b[0m\u001b[1;33m,\u001b[0m\u001b[1;36m1827\u001b[0m\u001b[1;33m)\u001b[0m\u001b[1;33m:\u001b[0m\u001b[1;33m\u001b[0m\u001b[1;33m\u001b[0m\u001b[0m\n\u001b[0;32m      5\u001b[0m         '''''\n",
      "\u001b[1;31mFileNotFoundError\u001b[0m: [Errno 2] No such file or directory: '../steamIdList/Output.txt'"
     ]
    }
   ],
   "source": [
    "idCount = 0\n",
    "\n",
    "with open(\"../steamIdList/Output.txt\", \"w\") as text_file:\n",
    "    for i in range(1,1827):\n",
    "        '''''\n",
    "        try:\n",
    "            req = requests.get(\"https://steamcommunity.com/groups/steamuniverse/memberslistxml/?xml=1&p=\" + str(i))\n",
    "            root = ET.fromstring(req.text)\n",
    "            fullString = \"\"\n",
    "            idlist = root.find(\"members\").findall(\"steamID64\")\n",
    "            idCount = idCount + len(idlist)\n",
    "            for a in idlist:\n",
    "                fullString = fullString + a.text + \"\\n\"\n",
    "            text_file.write(fullString)\n",
    "            print(\"Done with i= \" + str(i))\n",
    "            print(\"Total ids done = \" + str(idCount))\n",
    "        \n",
    "        except:\n",
    "            print(\"Error at i= \" + str(i))\n",
    "            print(\"Total ids done= \" + str(idCount))\n",
    "        '''''\n",
    "        req = requests.get(\"https://steamcommunity.com/groups/steamuniverse/memberslistxml/?xml=1&p=\" + str(i))\n",
    "        root = ET.fromstring(req.text)\n",
    "        fullString = \"\"\n",
    "        idlist = root.find(\"members\").findall(\"steamID64\")\n",
    "        idCount = idCount + len(idlist)\n",
    "        for a in idlist:\n",
    "            fullString = fullString + a.text + \"\\n\"\n",
    "        text_file.write(fullString)\n",
    "        print(\"Done with i= \" + str(i))\n",
    "        print(\"Total ids done = \" + str(idCount))\n",
    "        \n",
    "        if i % 50 ==0:\n",
    "            time.sleep(900)\n",
    "        else:\n",
    "            time.sleep(2)            \n",
    "\n",
    "print(idCount) "
   ]
  },
  {
   "cell_type": "code",
   "execution_count": null,
   "metadata": {},
   "outputs": [],
   "source": [
    "idCount = 0\n",
    "key = ''\n",
    "\n",
    "def getsteamjsondata(steamid):\n",
    "    req = requests.get(\"https://api.steampowered.com/IPlayerService/GetOwnedGames/v1/?key={}&steamid={}&include_appinfo=true&include_played_free_games=true&appids_filter=false\".format(key,steamid))\n",
    "    return req.text    \n",
    "\n",
    "with open(\"../steamIdList/gameData.txt\", \"w\") as game_file:\n",
    "    with open(\"../steamIdList/Output3.txt\", \"r\") as text_file:\n",
    "        lincnt = 1\n",
    "        line = text_file.readline()\n",
    "        while line:\n",
    "            if lincnt % 100 == 0:\n",
    "                print(\"Done for i = \" + lincnt)\n",
    "            stmid = line[0:len(line)-1]\n",
    "            jsonresponse = getsteamjsondata(stmid)\n",
    "            game_file.write(stmid + \"\\t\" + jsonresponse + '\\n')\n",
    "            line = text_file.readline()\n",
    "            lincnt = lincnt + 1\n",
    "        "
   ]
  }
 ],
 "metadata": {
  "anaconda-cloud": {},
  "kernelspec": {
   "display_name": "Python 3",
   "language": "python",
   "name": "python3"
  },
  "language_info": {
   "codemirror_mode": {
    "name": "ipython",
    "version": 3
   },
   "file_extension": ".py",
   "mimetype": "text/x-python",
   "name": "python",
   "nbconvert_exporter": "python",
   "pygments_lexer": "ipython3",
   "version": "3.6.8"
  }
 },
 "nbformat": 4,
 "nbformat_minor": 2
}
